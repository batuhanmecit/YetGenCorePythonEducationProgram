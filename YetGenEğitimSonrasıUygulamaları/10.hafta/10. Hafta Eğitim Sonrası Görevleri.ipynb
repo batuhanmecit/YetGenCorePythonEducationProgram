{
 "cells": [
  {
   "attachments": {},
   "cell_type": "markdown",
   "metadata": {},
   "source": [
    "# Problem 1 "
   ]
  },
  {
   "cell_type": "code",
   "execution_count": null,
   "metadata": {},
   "outputs": [],
   "source": [
    "# 1 - numpy kütüphanesini import edin\n",
    "\n",
    "# 2 - 5 elemanlı bir numpy array oluşturun\n",
    "\n",
    "# 3 - Oluşturduğunuz arrayi küçükten büyüğe sıralayın.\n"
   ]
  },
  {
   "cell_type": "code",
   "execution_count": 1,
   "metadata": {},
   "outputs": [
    {
     "name": "stdout",
     "output_type": "stream",
     "text": [
      "[1 2 5 7 9]\n"
     ]
    }
   ],
   "source": [
    "import numpy as np  \n",
    "\n",
    "x = np.array([5, 2, 9, 1, 7])  \n",
    "x_sorted = np.sort(x)  \n",
    "\n",
    "print(x_sorted)"
   ]
  },
  {
   "attachments": {},
   "cell_type": "markdown",
   "metadata": {},
   "source": [
    "# Problem 2"
   ]
  },
  {
   "cell_type": "code",
   "execution_count": null,
   "metadata": {},
   "outputs": [],
   "source": [
    "# 1- (10,15,30,45,60) değerlerine sahip numpy dizisi oluşturunuz.\n",
    "\n",
    "\n",
    "# 2- (5-15) arasındaki sayılarla numpy dizisi oluşturunuz.\n",
    " \n",
    "# 3- (50-100) arasında 5'er 5'er artarak numpy dizisi oluşturunuz.\n",
    "\n",
    "\n",
    "# 4- 10 elemanlı sıfırlardan oluşan bir dizi oluşturunuz.\n",
    "\n",
    "\n",
    "# 5- 10 elemanlı birlerden oluşan bir dizi oluşturunuz.\n",
    "\n",
    "\n",
    "# 6- (0-100) arasında eşit aralıklı 5 sayı üretin.\n",
    "\n",
    "\n",
    "# 7- (10-30) arasında rastgele 5 tane tamsayı üretin.\n",
    "\n",
    "\n",
    "# 8- [-1 ile 1] arasında 10 adet sayı üretin.\n",
    "\n",
    "\n",
    "# 9- (3x5) boyutlarında (10-50) arasında rastgele bir matris oluşturunuz.\n",
    "\n",
    "\n",
    "# 10- Üretilen matrisin satır ve sütun sayıları toplamlarını hesaplayınız ?\n",
    "\n",
    "\n",
    "# 11- Üretilen matrisin en büyük, en küçük ve ortalaması nedir ?\n",
    "\n",
    "\n",
    "# 12- Üretilen matrisin en büyük değerinin indeksi kaçtır ?\n",
    "\n",
    "\n",
    "# 13- (10-20) arasındaki sayıları içeren dizinin ilk 3 elemanını seçiniz.\n",
    "\n",
    "\n",
    "# 14- Üretilen dizinin elemanlarını tersten yazdırın.\n",
    "\n",
    "\n",
    "# 15- Üretilen matrisin ilk satırını seçiniz.\n",
    "\n",
    "\n",
    "# 16- Üretilen matrisin 2.satır 3.sütundaki elemanı hangisidir ?\n",
    "\n",
    "\n",
    "# 17- Üretilen matrisin tüm satırlardaki ilk elemanı seçiniz.\n",
    "\n",
    "\n",
    "# 18- Üretilen matrisin her bir elemanının karesini alınız.\n",
    "\n",
    "\n",
    "# 19- Üretilen matris elemanlarının hangisi pozitif çift sayıdır ? Aralığı (-50,+50) arasında yapınız.\n"
   ]
  },
  {
   "cell_type": "code",
   "execution_count": 2,
   "metadata": {},
   "outputs": [
    {
     "name": "stdout",
     "output_type": "stream",
     "text": [
      "Satır toplamları: [151 209 192]\n",
      "Sütun toplamları: [ 95 111 131 122  93]\n",
      "En büyük değer: 50\n",
      "En küçük değer: 13\n",
      "Ortalama değer: 36.8\n",
      "En büyük değerin indeksi: 7\n",
      "2.satır 3.sütundaki eleman: 50\n",
      "Pozitif çift sayılar: [50 50 44 32 30]\n"
     ]
    }
   ],
   "source": [
    "import numpy as np\n",
    "\n",
    "# 1\n",
    "arr1 = np.array([10, 15, 30, 45, 60])\n",
    "\n",
    "# 2\n",
    "arr2 = np.arange(5, 16)\n",
    "\n",
    "# 3\n",
    "arr3 = np.arange(50, 101, 5)\n",
    "\n",
    "# 4\n",
    "arr4 = np.zeros(10)\n",
    "\n",
    "# 5\n",
    "arr5 = np.ones(10)\n",
    "\n",
    "# 6\n",
    "arr6 = np.linspace(0, 100, 5)\n",
    "\n",
    "# 7\n",
    "arr7 = np.random.randint(10, 31, 5)\n",
    "\n",
    "# 8\n",
    "arr8 = np.random.uniform(-1, 1, 10)\n",
    "\n",
    "# 9\n",
    "arr9 = np.random.randint(10, 51, (3, 5))\n",
    "\n",
    "# 10\n",
    "row_sum = np.sum(arr9, axis=1)\n",
    "col_sum = np.sum(arr9, axis=0)\n",
    "print(\"Satır toplamları:\", row_sum)\n",
    "print(\"Sütun toplamları:\", col_sum)\n",
    "\n",
    "# 11\n",
    "max_val = np.max(arr9)\n",
    "min_val = np.min(arr9)\n",
    "mean_val = np.mean(arr9)\n",
    "print(\"En büyük değer:\", max_val)\n",
    "print(\"En küçük değer:\", min_val)\n",
    "print(\"Ortalama değer:\", mean_val)\n",
    "\n",
    "# 12\n",
    "max_index = np.argmax(arr9)\n",
    "print(\"En büyük değerin indeksi:\", max_index)\n",
    "\n",
    "# 13\n",
    "arr13 = np.arange(10, 21)[:3]\n",
    "\n",
    "# 14\n",
    "arr14 = arr1[::-1]\n",
    "\n",
    "# 15\n",
    "row1 = arr9[0]\n",
    "\n",
    "# 16\n",
    "val = arr9[1, 2]\n",
    "print(\"2.satır 3.sütundaki eleman:\", val)\n",
    "\n",
    "# 17\n",
    "first_elements = arr9[:, 0]\n",
    "\n",
    "# 18\n",
    "arr9_squared = np.square(arr9)\n",
    "\n",
    "# 19\n",
    "positive_even_nums = arr9[(arr9 % 2 == 0) & (arr9 > 0)]\n",
    "print(\"Pozitif çift sayılar:\", positive_even_nums)"
   ]
  }
 ],
 "metadata": {
  "kernelspec": {
   "display_name": "Python 3",
   "language": "python",
   "name": "python3"
  },
  "language_info": {
   "codemirror_mode": {
    "name": "ipython",
    "version": 3
   },
   "file_extension": ".py",
   "mimetype": "text/x-python",
   "name": "python",
   "nbconvert_exporter": "python",
   "pygments_lexer": "ipython3",
   "version": "3.11.2"
  },
  "orig_nbformat": 4,
  "vscode": {
   "interpreter": {
    "hash": "5026d2d6e7aaaaba093def813beadff083d8733e4a511af01735cbabd156995d"
   }
  }
 },
 "nbformat": 4,
 "nbformat_minor": 2
}
