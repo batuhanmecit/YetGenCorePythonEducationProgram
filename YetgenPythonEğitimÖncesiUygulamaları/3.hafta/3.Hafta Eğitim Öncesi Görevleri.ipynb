{
  "cells": [
    {
      "cell_type": "markdown",
      "metadata": {
        "id": "tsD4YVAe_Te2"
      },
      "source": [
        "# Problem 1\n",
        "Bir sayının 7'ye bölünebilir olup olmadığını kontrol etmek \n",
        "için bir program yazın.\n",
        "\n",
        "İpucu: Mod operatörünü (%) kullanabilirsiniz."
      ]
    },
    {
      "cell_type": "code",
      "execution_count": 1,
      "metadata": {
        "id": "NGjvNwKx_Te7"
      },
      "outputs": [
        {
          "name": "stdout",
          "output_type": "stream",
          "text": [
            "Girdiğiniz sayı 7'ye bölünebilir bir sayıdır.\n"
          ]
        }
      ],
      "source": [
        "# 1.Problemin Çözümünü Buraya Yazınız\n",
        "sayi1 = int(input(\"Bir sayı giriniz :\"))\n",
        "if sayi1 % 7 == 0:\n",
        "    print(\"Girdiğiniz sayı 7'ye bölünebilir bir sayıdır.\")\n",
        "else:\n",
        "    print(\"Girdiğiniz sayı 7'ye bölünmüyor.\")\n"
      ]
    },
    {
      "cell_type": "markdown",
      "metadata": {
        "id": "Kg3qiBAI_Te8"
      },
      "source": [
        "# Problem 2\n",
        "Kullanıcıdan vize ve final notu isteyin. Girilen vize notunun %40’ı ve \n",
        "girilen finalnotunun ise %60’ı alınarak yıl sonu not ortalaması hesaplanacaktır. \n",
        "\n",
        "Bu not ortalaması eğer 85 ve üzeri ise AA, \n",
        "\n",
        "75 ve 85 arasında ise BA, \n",
        "\n",
        "70 ve 75 arasında ise BB, \n",
        "\n",
        "65 ve 70 arasında ise CB,\n",
        "\n",
        "60 ve 65 arasında ise CC,\n",
        "\n",
        "55 ve 60 arasında ise DC,\n",
        "\n",
        "50 ve 55 arasında ise DD olarak hesaplanacaktır. \n",
        "\n",
        "Bu öğrencinin yıl sonu toplam notu 50’nin altında ise FF ile dersten kalacaktır. \n",
        "\n",
        "Ayrıca öğrencinin final notu 50’nin altında ise direkt FF ile kalacaktır."
      ]
    },
    {
      "cell_type": "code",
      "execution_count": 9,
      "metadata": {
        "id": "MXTtCxI1_Te8"
      },
      "outputs": [
        {
          "name": "stdout",
          "output_type": "stream",
          "text": [
            "BB\n"
          ]
        }
      ],
      "source": [
        "vize = float(input(\"Vize notunu giriniz : \"))\n",
        "final = float(input(\"Final notunu giriniz : \"))\n",
        "yıl_sonu_not_ortalaması = ((vize * 40)/100) + ((final * 60) /100)\n",
        "if yıl_sonu_not_ortalaması >= 85:\n",
        "    print(\"AA\")\n",
        "if yıl_sonu_not_ortalaması >=75 and yıl_sonu_not_ortalaması < 85:\n",
        "    print(\"BA\")\n",
        "if yıl_sonu_not_ortalaması >=70 and yıl_sonu_not_ortalaması < 75:\n",
        "    print(\"BB\")\n",
        "if yıl_sonu_not_ortalaması >=65 and yıl_sonu_not_ortalaması < 70:\n",
        "    print(\"CB\")\n",
        "if yıl_sonu_not_ortalaması >=60 and yıl_sonu_not_ortalaması < 65:\n",
        "    print(\"CC\")\n",
        "if yıl_sonu_not_ortalaması >=55 and yıl_sonu_not_ortalaması < 60:\n",
        "    print(\"DC\")\n",
        "if yıl_sonu_not_ortalaması >=50 and yıl_sonu_not_ortalaması < 55:\n",
        "    print(\"DD\")\n",
        "if yıl_sonu_not_ortalaması < 50:\n",
        "    print(\"FF ile kaldınız.\")\n",
        "if final < 50:\n",
        "    print(\"FF ile direkt kaldınız\")"
      ]
    },
    {
      "cell_type": "markdown",
      "metadata": {
        "id": "tAoRYCTC_Te8"
      },
      "source": [
        "# Problem 3\n",
        "İki YetGenli Zirve'de karşılaşıyorlar. Birbirlerini tanımak için sorular soruyorlar. Birbirlerine yaşlarını soruyorlar. Akıllarına bir Python programı yazıp, yaşlarını ve isimlerini giriyorlar. Büyük olanın yaşını ekrana yazdıran programı yazıyorlar. Sende bu iki YetGenli'ye destek olmak ister misin?\n",
        "\n",
        "```\n",
        "Birinci YetGenlinin ismi: Ahmet\n",
        "Birinci YetGenlinin yaşı : 20\n",
        "İkinci YetGenlinin ismi: Mehmet\n",
        "İkinci YetGenlinin yaşı : 25\n",
        "Mehmet'in yaşı daha büyük ve yaşı 25'tir.\n",
        "```"
      ]
    },
    {
      "cell_type": "code",
      "execution_count": 3,
      "metadata": {
        "id": "bPjE8W0i_Te8"
      },
      "outputs": [
        {
          "name": "stdout",
          "output_type": "stream",
          "text": [
            "Mehmet'in yaşı daha büyük ve yaşı 25'tir.\n"
          ]
        }
      ],
      "source": [
        "birinci = \"Ahmet\"\n",
        "yas1 = 20\n",
        "ikinci = \"Mehmet\"\n",
        "yas2 = 25\n",
        "if yas1 > yas2:\n",
        "    print(f\"{birinci}'in yaşı daha büyük ve {yas1}'dir\")\n",
        "elif yas1 == yas2:\n",
        "    print(\"Eşit\")\n",
        "else:\n",
        "    print(f\"{ikinci}'in yaşı daha büyük ve yaşı {yas2}'tir.\")"
      ]
    },
    {
      "cell_type": "markdown",
      "metadata": {
        "id": "zBVv8Tyg_Te9"
      },
      "source": [
        "# Problem 4\n",
        "Pandemi döneminde AVM'lerde ateş ölçümü yapılıyor. AVM'ye giren kişinin ateş ölçümü 37.5 derecenin altında ise girişe izin veriliyor. 37.5 derecenin üstünde ise girişe izin verilmiyor. AVM'ye girişe izin verilip verilmediğini ekrana yazdıran bir program yazın.\n",
        "\n",
        "Program sonunda şöyle bir çıktı elde etmelisiniz:\n",
        "\n",
        "```\n",
        "Ateşiniz 37.5 derece. AVM'ye girebilirsin! Maske takmayı unutma!\n",
        "Ateşiniz 37.6 derece. AVM'ye giremezsin! Hemen evine dön!\n",
        "```"
      ]
    },
    {
      "cell_type": "code",
      "execution_count": 16,
      "metadata": {
        "id": "TSAXs8et_Te9"
      },
      "outputs": [
        {
          "name": "stdout",
          "output_type": "stream",
          "text": [
            "Ateşiniz 48.0 derece. AVM'ye giremezsiniz! Hemen evine dön!\n"
          ]
        }
      ],
      "source": [
        "ates = float(input(\"Ateş'i kaç derece ? \"))\n",
        "if ates <= 37.5:\n",
        "    print(\"Ateşiniz\" , (ates) , \"derece.\" \"AVM'ye girebilirsiniz! Maske takmayı unutma!\")\n",
        "elif ates >= 37.6:\n",
        "    print(f\"Ateşiniz {ates} derece. AVM'ye giremezsiniz! Hemen evine dön!\")"
      ]
    },
    {
      "cell_type": "markdown",
      "metadata": {
        "id": "6AEkZrDt_Te9"
      },
      "source": [
        "# Problem 5\n",
        "YetGen bir spor kulübüyle sponsorluk anlaşması yapıyor. Kulüp, sponsorluk anlaşmasına göre her YetGen liderinin beden kitle indeksini hesaplamak istiyor. Spor kulübü, beden kitle indeksini hesaplamak için YetGen Jump Python liderlerinden Berkcan ve Ahmet'i arıyor. Berkcan ve Ahmet, kulübe yardımcı olmak için bir Python programı yazıyorlar. Sende bu iki YetGen liderine destek olmak ister misin?\n",
        "\n",
        "Kullanıcıdan alınan boy ve kilo değerlerine göre beden kitle indeksini hesaplayın ve şu kurallara göre ekrana şu yazıları yazdırın.\n",
        "\n",
        "\n",
        "Beden Kitle İndeksi, kişinin ağırlığının (kg olarak) boyunun karesine (m olarak) bölünmesiyle hesaplanır.\n",
        "\n",
        "\n",
        "```\n",
        " BKİ 18.5'un altındaysa -------> Zayıf\n",
        "\n",
        " BKİ 18.5 ile 25 arasındaysa ------> Normal\n",
        "\n",
        " BKİ 25 ile 30 arasındaysa --------> Fazla Kilolu\n",
        "\n",
        " BKİ 30'un üstündeyse -------------> Obez\n",
        "```\n",
        "\n"
      ]
    },
    {
      "cell_type": "code",
      "execution_count": 19,
      "metadata": {
        "id": "t-XPI_u0_Te-"
      },
      "outputs": [
        {
          "name": "stdout",
          "output_type": "stream",
          "text": [
            "21.5\n",
            "Beden kitle indeksiniz 21.484374999999996 >>> Normal\n"
          ]
        }
      ],
      "source": [
        "kilo = float(input(\"Kilonuzu giriniz : \"))\n",
        "boy = float(input(\"Boyunuzu m cinsinden giriniz : \"))\n",
        "beden_kitle_indeksi = kilo / (boy ** 2)\n",
        "print(round(beden_kitle_indeksi, 1))\n",
        "if beden_kitle_indeksi < 18.5:\n",
        "    print(f\"Beden kitle indeksiniz {beden_kitle_indeksi} >>> Zayıf\")\n",
        "if beden_kitle_indeksi >= 18.5 and beden_kitle_indeksi <= 25:\n",
        "    print(f\"Beden kitle indeksiniz {beden_kitle_indeksi} >>> Normal\")\n",
        "if beden_kitle_indeksi > 25 and beden_kitle_indeksi < 30:\n",
        "    print(f\"Beden kitle indeksiniz {beden_kitle_indeksi} >>> Fazla Kilolu\")\n",
        "if beden_kitle_indeksi > 30:\n",
        "    print(f\"Beden kitle indeksiniz {beden_kitle_indeksi} >>> Obez\")\n"
      ]
    },
    {
      "cell_type": "markdown",
      "metadata": {
        "id": "oFsvQyaO_Te-"
      },
      "source": [
        "# Problem 6\n",
        "Kullanıcıdan isim, yaş ve eğitim bilgilerini isteyip ehliyet alabilme  durumunu kontrol ediniz. \n",
        "\n",
        "Ehliyet alma koşulu en az 18 yaşında ve eğitim durumu lise ya da üniversite olmalıdır. "
      ]
    },
    {
      "cell_type": "code",
      "execution_count": 40,
      "metadata": {
        "id": "Tu2mcgco_Te-"
      },
      "outputs": [
        {
          "name": "stdout",
          "output_type": "stream",
          "text": [
            "Yaşınız 22 ve eğitim durumunuz Üniversite olduğundan ehliyet alma koşulunu sağlamaktasınız. Tebriker!\n"
          ]
        }
      ],
      "source": [
        "isim_soyisim = input(\"İsim ve Soyisim giriniz :\")\n",
        "yas = int(input(\"Yaş giriniz ?\"))\n",
        "egitim_bilgisi = input(\"Eğitim dereceniz ?\")\n",
        "if yas >= 18 and egitim_bilgisi == \"lise\" or egitim_bilgisi == \"Üniversite\":\n",
        "    print(f\"Yaşınız {yas} ve eğitim durumunuz {egitim_bilgisi} olduğundan ehliyet alma koşulunu sağlamaktasınız. Tebriker!\")\n",
        "else:\n",
        "    print(\"Ehliyet alma koşulunu sağlayamamaktasınız. Üzgünüz. :(\")"
      ]
    },
    {
      "cell_type": "markdown",
      "metadata": {
        "id": "eUkxVSAE_Te_"
      },
      "source": [
        "# Problem 7\n",
        "Bir yılın artık yıl olup olmadığını kontrol etmek için bir program yazın. \n",
        "Artık yıl kuralı:\n",
        "\n",
        "a) Eğer yılın son iki basamağı (00) ile bitmiyor ve yalnızca 4'e tam bölünüyorsa artık yıldır. Ya da, \n",
        "\n",
        "b) Eğer yıl 400'e tam bölünüyorsa artık yıldır.\n",
        "\n",
        "**Örneğin**\n",
        "```\n",
        "2017 artık yıl değildir.\n",
        "1900 artık yıl değildir\n",
        "2012 artık yıldır.\n",
        "2000 artık yıldır.\n",
        "```"
      ]
    },
    {
      "cell_type": "code",
      "execution_count": 14,
      "metadata": {
        "id": "4uWh8qUL_Te_"
      },
      "outputs": [
        {
          "name": "stdout",
          "output_type": "stream",
          "text": [
            "Seçtiğiniz yıl 2000 >>> artık yıldır.\n"
          ]
        }
      ],
      "source": [
        "artık_yil = int(input(\"Yıl giriniz :\"))\n",
        "if artık_yil % 2 == 0 and artık_yil % 5 == 0 and artık_yil % 4 == 0:\n",
        "    if artık_yil % 400 == 0:\n",
        "        print(f\"Seçtiğiniz yıl {artık_yil} >>> artık yıldır.\")\n",
        "else:\n",
        "    print(f\"Seçtiğiniz yıl {artık_yil} >>> artık yıl değildir.\")"
      ]
    },
    {
      "cell_type": "code",
      "execution_count": 18,
      "metadata": {},
      "outputs": [
        {
          "name": "stdout",
          "output_type": "stream",
          "text": [
            "Seçtiğiniz yıl 2012 >>> artık yıl değildir.\n"
          ]
        }
      ],
      "source": [
        "artık_yil = int(input(\"Yıl giriniz :\"))\n",
        "if artık_yil % 100 == 0 and artık_yil % 4 == 0:\n",
        "    if artık_yil % 400 == 0:\n",
        "        print(f\"Seçtiğiniz yıl {artık_yil} >>> artık yıldır.\")\n",
        "else:\n",
        "    print(f\"Seçtiğiniz yıl {artık_yil} >>> artık yıl değildir.\")"
      ]
    }
  ],
  "metadata": {
    "colab": {
      "provenance": []
    },
    "kernelspec": {
      "display_name": "Python 3.10.5 64-bit",
      "language": "python",
      "name": "python3"
    },
    "language_info": {
      "codemirror_mode": {
        "name": "ipython",
        "version": 3
      },
      "file_extension": ".py",
      "mimetype": "text/x-python",
      "name": "python",
      "nbconvert_exporter": "python",
      "pygments_lexer": "ipython3",
      "version": "3.11.1"
    },
    "orig_nbformat": 4,
    "vscode": {
      "interpreter": {
        "hash": "5026d2d6e7aaaaba093def813beadff083d8733e4a511af01735cbabd156995d"
      }
    }
  },
  "nbformat": 4,
  "nbformat_minor": 0
}
